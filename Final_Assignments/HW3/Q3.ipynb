{
  "cells": [
    {
      "cell_type": "markdown",
      "metadata": {
        "id": "NgQDc4v3TfsF"
      },
      "source": [
        "# Q3"
      ]
    },
    {
      "cell_type": "markdown",
      "metadata": {
        "id": "r3BJFGcYT-LV"
      },
      "source": [
        "*   We will develop a NER system specific to the category of names of the top 1000 movie titles from IMDB.\n",
        "\n",
        "*   We will evaluate the system on a collection of text likely to contain instances of these named entities."
      ]
    },
    {
      "cell_type": "code",
      "execution_count": 1,
      "metadata": {
        "colab": {
          "base_uri": "https://localhost:8080/"
        },
        "id": "GnwTjXyH5Xls",
        "outputId": "09e1a8bb-4a31-4c44-ca69-53d4960664e2"
      },
      "outputs": [
        {
          "output_type": "stream",
          "name": "stderr",
          "text": [
            "[nltk_data] Downloading package punkt to /root/nltk_data...\n",
            "[nltk_data]   Unzipping tokenizers/punkt.zip.\n"
          ]
        },
        {
          "output_type": "execute_result",
          "data": {
            "text/plain": [
              "True"
            ]
          },
          "metadata": {},
          "execution_count": 1
        }
      ],
      "source": [
        "import nltk\n",
        "nltk.download('punkt')"
      ]
    },
    {
      "cell_type": "code",
      "execution_count": 2,
      "metadata": {
        "colab": {
          "base_uri": "https://localhost:8080/"
        },
        "id": "o3DlFdNPT95l",
        "outputId": "0069c9ea-e33a-4cb8-fa5e-cede8cd26bd6"
      },
      "outputs": [
        {
          "output_type": "stream",
          "name": "stderr",
          "text": [
            "[nltk_data] Downloading package brown to /root/nltk_data...\n",
            "[nltk_data]   Unzipping corpora/brown.zip.\n",
            "[nltk_data] Downloading package movie_reviews to /root/nltk_data...\n",
            "[nltk_data]   Unzipping corpora/movie_reviews.zip.\n"
          ]
        }
      ],
      "source": [
        "import re\n",
        "import csv\n",
        "import math\n",
        "import nltk\n",
        "nltk.download('brown')\n",
        "nltk.download('movie_reviews')\n",
        "from nltk.corpus import brown, movie_reviews\n",
        "from nltk.tokenize import word_tokenize"
      ]
    },
    {
      "cell_type": "code",
      "execution_count": 3,
      "metadata": {
        "id": "5hHLacEwzP3q"
      },
      "outputs": [],
      "source": [
        "def get_top_1000_list():\n",
        "    \"\"\"\n",
        "    Function to extract movie titles from a IMDB-top-1000.csv file.\n",
        "\n",
        "    Returns:\n",
        "        list: A list of unique titles of the top 1000 movies\n",
        "    \"\"\"\n",
        "    titles = []\n",
        "\n",
        "    # Read the CSV file\n",
        "    with open(\"data/IMDB-top-1000.csv\", newline=\"\", encoding=\"utf-8\") as csvfile:\n",
        "        reader = csv.reader(csvfile)\n",
        "        next(reader)  # Skip the header row\n",
        "        for row in reader:\n",
        "            # Assuming the title is in the first column\n",
        "            title = row[1].strip()  # Remove leading/trailing whitespaces\n",
        "            titles.append(title)\n",
        "    # Remove duplicate titles and return the list\n",
        "    collected_titles = list(set(titles))\n",
        "\n",
        "    return collected_titles"
      ]
    },
    {
      "cell_type": "code",
      "execution_count": 4,
      "metadata": {
        "id": "Mem-wyqU1z0f"
      },
      "outputs": [],
      "source": [
        "def label_BIO(_tokens, _NE):\n",
        "    \"\"\"\n",
        "    Generates BIO (Beginning, Inside, Outside) tags for movie titles in the given tokens.\n",
        "\n",
        "    Args:\n",
        "        _tokens (list): List of tokens representing words in a sentence.\n",
        "        _NE (list): List of named entities, where each entity is represented as a list of tokens.\n",
        "\n",
        "    Returns:\n",
        "        list: List of tuples containing tokens and their corresponding BIO tags.\n",
        "\n",
        "    Comments:\n",
        "        - This function searches for movie titles in the tokens and labels them using BIO notation.\n",
        "        - A movie title is considered to be a named entity, where the first word is labeled as 'B-MOV'\n",
        "          (Beginning of a movie title) and subsequent words are labeled as 'I-MOV' (Inside a movie title).\n",
        "        - Non-movie title tokens are labeled as 'O' (Outside any named entity).\n",
        "        - The function iterates through each token in the tokens list, searching for matches in the named entity list.\n",
        "          If a match is found, the corresponding tokens are labeled accordingly in the BIO format.\n",
        "        - It returns a list of tuples, each containing a token and its corresponding BIO tag.\n",
        "    \"\"\"\n",
        "    BIO_for_samples = []\n",
        "    named_entities = [title.split() for title in _NE]\n",
        "    # find words in NE to look up faster\n",
        "    named_entity_tokens = set(token for ne in named_entities for token in ne)\n",
        "\n",
        "    for token in _tokens:\n",
        "        if token in named_entity_tokens:\n",
        "            # find if token is part of NE\n",
        "            if any(token == ne[0] for ne in named_entities):\n",
        "                # if the token is first part of NE\n",
        "                BIO_for_samples.append((token, \"B-MOV\"))\n",
        "            else:\n",
        "                # if token is inside NE\n",
        "                BIO_for_samples.append((token, \"I-MOV\"))\n",
        "        else:\n",
        "            # if token is not in NE\n",
        "            BIO_for_samples.append((token, \"O\"))\n",
        "\n",
        "    return BIO_for_samples\n"
      ]
    },
    {
      "cell_type": "code",
      "execution_count": 5,
      "metadata": {
        "id": "1UA4HbNA5Fj6"
      },
      "outputs": [],
      "source": [
        "# Don't change this cell\n",
        "def print_BIO_res(_BIO):\n",
        "    for i in range(len(_BIO)):\n",
        "        if _BIO[i][1] == 'B-MOV':\n",
        "            for j in range(i - 7, i + 7):\n",
        "                if _BIO[j][1] == 'O':\n",
        "                    print(_BIO[j][0], end=\" \")\n",
        "                else:\n",
        "                    print(_BIO[j], end=\" \")\n",
        "            print(\"\")"
      ]
    },
    {
      "cell_type": "code",
      "execution_count": 6,
      "metadata": {
        "id": "vrQqvG947sb4"
      },
      "outputs": [],
      "source": [
        "# Don't change this cell\n",
        "def get_data_from_file(_fn):\n",
        "    with open(_fn, 'r') as file:\n",
        "        data = file.read().replace('\\n', ' ')\n",
        "    return data"
      ]
    },
    {
      "cell_type": "code",
      "execution_count": 7,
      "metadata": {
        "colab": {
          "base_uri": "https://localhost:8080/"
        },
        "id": "CdzyVGJ25IBc",
        "outputId": "3f4bbd67-afc8-4169-c590-79278fa436d4"
      },
      "outputs": [
        {
          "output_type": "stream",
          "name": "stdout",
          "text": [
            "generation ('of', 'I-MOV') kung fu cinema fans . ('From', 'B-MOV') Bruce Lee ('to', 'I-MOV') Shang-Chi : ('a', 'I-MOV') \n",
            "('Ten', 'I-MOV') Rings is shaping up ('to', 'I-MOV') overtake ('Black', 'B-MOV') Widow ('as', 'I-MOV') ('the', 'I-MOV') biggest film ('of', 'I-MOV') \n",
            "('the', 'I-MOV') biggest film ('of', 'I-MOV') ('the', 'I-MOV') pandemic . ('A', 'B-MOV') hit ('with', 'I-MOV') critics ('and', 'I-MOV') audience alike \n",
            "history almost ('as', 'I-MOV') long cinema itself . ('This', 'B-MOV') history is ('on', 'I-MOV') exciting display ('in', 'I-MOV') \n",
            "heroes ('with', 'I-MOV') supernatural martial arts abilities . ('Fight', 'B-MOV') scenes ('in', 'I-MOV') these early films emphasised \n",
            "rarely showcased actual martial arts skills . ('This', 'B-MOV') changed ('with', 'I-MOV') ('the', 'I-MOV') transformation ('of', 'I-MOV') Hong \n",
            "Five Deadly Venoms ( 1978 ) ('and', 'I-MOV') ('The', 'B-MOV') 36th Chamber ('of', 'I-MOV') Shaolin ( 1978 \n",
            "style , ('as', 'I-MOV') shown ('in', 'I-MOV') films like ('The', 'B-MOV') ('Big', 'B-MOV') Boss ( 1971 ) ('and', 'I-MOV') \n",
            ", ('as', 'I-MOV') shown ('in', 'I-MOV') films like ('The', 'B-MOV') ('Big', 'B-MOV') Boss ( 1971 ) ('and', 'I-MOV') ('Enter', 'B-MOV') \n",
            "('The', 'B-MOV') ('Big', 'B-MOV') Boss ( 1971 ) ('and', 'I-MOV') ('Enter', 'B-MOV') ('the', 'I-MOV') ('Dragon', 'B-MOV') ( 1973 ) , \n",
            "Boss ( 1971 ) ('and', 'I-MOV') ('Enter', 'B-MOV') ('the', 'I-MOV') ('Dragon', 'B-MOV') ( 1973 ) , sparked an \n",
            "('with', 'I-MOV') poor-quality dubbing ('and', 'I-MOV') bootleg videos . ('After', 'B-MOV') Lee ’ s untimely death ('in', 'I-MOV') \n",
            "('in', 'I-MOV') Drunken Master ( 1978 ) ('and', 'I-MOV') ('The', 'B-MOV') ('Magnificent', 'I-MOV') Butcher ( 1979 ) starring \n",
            "Tai Chi Master ( 1993 ) ('and', 'I-MOV') ('Donnie', 'B-MOV') Yen ’ s ('Iron', 'B-MOV') Monkey ( \n",
            "1993 ) ('and', 'I-MOV') ('Donnie', 'B-MOV') Yen ’ s ('Iron', 'B-MOV') Monkey ( 1993 ) . ('The', 'B-MOV') \n",
            "s ('Iron', 'B-MOV') Monkey ( 1993 ) . ('The', 'B-MOV') second boom ('In', 'B-MOV') ('the', 'I-MOV') late 1990s \n",
            "( 1993 ) . ('The', 'B-MOV') second boom ('In', 'B-MOV') ('the', 'I-MOV') late 1990s , around ('the', 'I-MOV') \n",
            ". ('With', 'I-MOV') films like Chan ’ s ('Rush', 'B-MOV') ('Hour', 'I-MOV') ( 1998 ) ('and', 'I-MOV') Shanghai \n",
            ", ('and', 'I-MOV') Li ’ s Romeo Must ('Die', 'B-MOV') ( 2000 ) ('and', 'I-MOV') ('The', 'B-MOV') ('One', 'B-MOV') \n",
            "Romeo Must ('Die', 'B-MOV') ( 2000 ) ('and', 'I-MOV') ('The', 'B-MOV') ('One', 'B-MOV') ( 2001 ) , English-speaking \n",
            "Must ('Die', 'B-MOV') ( 2000 ) ('and', 'I-MOV') ('The', 'B-MOV') ('One', 'B-MOV') ( 2001 ) , English-speaking fans \n",
            "('to', 'I-MOV') find its way into hits like ('The', 'B-MOV') ('Matrix', 'I-MOV') ( 1999 ) ('and', 'I-MOV') ('Kill', 'B-MOV') \n",
            "like ('The', 'B-MOV') ('Matrix', 'I-MOV') ( 1999 ) ('and', 'I-MOV') ('Kill', 'B-MOV') Bill ( 2003 ) . ('In', 'B-MOV') \n",
            "('and', 'I-MOV') ('Kill', 'B-MOV') Bill ( 2003 ) . ('In', 'B-MOV') 2000 , ('the', 'I-MOV') Chinese blockbuster ('Crouching', 'B-MOV') \n",
            ". ('In', 'B-MOV') 2000 , ('the', 'I-MOV') Chinese blockbuster ('Crouching', 'B-MOV') Tiger , ('Hidden', 'B-MOV') ('Dragon', 'B-MOV') showed modern \n",
            ", ('the', 'I-MOV') Chinese blockbuster ('Crouching', 'B-MOV') Tiger , ('Hidden', 'B-MOV') ('Dragon', 'B-MOV') showed modern international audiences now \n",
            "('the', 'I-MOV') Chinese blockbuster ('Crouching', 'B-MOV') Tiger , ('Hidden', 'B-MOV') ('Dragon', 'B-MOV') showed modern international audiences now had \n",
            "('the', 'I-MOV') trend . Jet Li ’ s ('Hero', 'B-MOV') ( 2002 ) ('and', 'I-MOV') Fearless ( \n",
            "('on', 'I-MOV') producing elegant wuxia action dramas . ('In', 'B-MOV') Hong ('Kong', 'I-MOV') , kung fu was \n",
            "comedies Shaolin Soccer ( 2001 ) ('and', 'I-MOV') ('Kung', 'B-MOV') ('Fu', 'I-MOV') ('Hustle', 'I-MOV') ( 2004 ) , \n",
            "('Fu', 'I-MOV') ('Hustle', 'I-MOV') ( 2004 ) , ('and', 'I-MOV') ('Donnie', 'B-MOV') Yen ’ s ('Ip', 'B-MOV') ('Man', 'B-MOV') ( \n",
            ") , ('and', 'I-MOV') ('Donnie', 'B-MOV') Yen ’ s ('Ip', 'B-MOV') ('Man', 'B-MOV') ( 2008 ) . Shang-Chi \n",
            ", ('and', 'I-MOV') ('Donnie', 'B-MOV') Yen ’ s ('Ip', 'B-MOV') ('Man', 'B-MOV') ( 2008 ) . Shang-Chi : \n",
            ". Shang-Chi : ('the', 'I-MOV') first Asian superhero ('In', 'B-MOV') many ways , ('the', 'I-MOV') character ('of', 'I-MOV') \n",
            "“ other kung fu hero ” , ('Iron', 'B-MOV') Fist ('from', 'I-MOV') ('the', 'I-MOV') 2017 Netflix series \n",
            "('the', 'I-MOV') same name , was controversial . ('The', 'B-MOV') star , Finn ('Jones', 'I-MOV') , lacked \n",
            "its “ white saviour ” narrative . ('In', 'B-MOV') light ('of', 'I-MOV') this , ('the', 'I-MOV') producers \n",
            "('to', 'I-MOV') headline ('a', 'I-MOV') Marvel feature film . ('This', 'B-MOV') has paid off : Shang-Chi is \n",
            "('the', 'I-MOV') lead role ('in', 'I-MOV') ('the', 'I-MOV') original 1970s ('Kung', 'B-MOV') ('Fu', 'I-MOV') television series . Shang-Chi is \n"
          ]
        }
      ],
      "source": [
        "titles_top_1000 = get_top_1000_list()\n",
        "\n",
        "# get text data from a text file\n",
        "data = get_data_from_file(\"data/article-about-a-genre.txt\")\n",
        "# tokenize text data\n",
        "tokens = word_tokenize(data)\n",
        "# tag with BIO using the IMDB top 1000 movie title list\n",
        "BIO = label_BIO(tokens, titles_top_1000)\n",
        "\n",
        "print_BIO_res(BIO)"
      ]
    }
  ],
  "metadata": {
    "accelerator": "GPU",
    "colab": {
      "gpuType": "T4",
      "provenance": []
    },
    "kernelspec": {
      "display_name": "Python 3",
      "name": "python3"
    },
    "language_info": {
      "name": "python"
    }
  },
  "nbformat": 4,
  "nbformat_minor": 0
}